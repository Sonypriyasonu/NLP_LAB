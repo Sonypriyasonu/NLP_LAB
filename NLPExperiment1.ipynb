{
  "nbformat": 4,
  "nbformat_minor": 0,
  "metadata": {
    "colab": {
      "name": "NLPExperiment1.ipynb",
      "provenance": [],
      "authorship_tag": "ABX9TyMa/Uqo46bX0MJnsSlmWnsC",
      "include_colab_link": true
    },
    "kernelspec": {
      "name": "python3",
      "display_name": "Python 3"
    },
    "language_info": {
      "name": "python"
    }
  },
  "cells": [
    {
      "cell_type": "markdown",
      "metadata": {
        "id": "view-in-github",
        "colab_type": "text"
      },
      "source": [
        "<a href=\"https://colab.research.google.com/github/Sonypriyasonu/NLP_LAB/blob/main/NLPExperiment1.ipynb\" target=\"_parent\"><img src=\"https://colab.research.google.com/assets/colab-badge.svg\" alt=\"Open In Colab\"/></a>"
      ]
    },
    {
      "cell_type": "markdown",
      "metadata": {
        "id": "pjow5gm9yqwq"
      },
      "source": [
        "## Experiment - 1\n"
      ]
    },
    {
      "cell_type": "markdown",
      "metadata": {
        "id": "-lxnPZJcy_VO"
      },
      "source": [
        "**1.Replace all occurrences of 5 with ‘five’ for the given string** "
      ]
    },
    {
      "cell_type": "code",
      "metadata": {
        "colab": {
          "base_uri": "https://localhost:8080/",
          "height": 35
        },
        "id": "4be5bBOmzVx0",
        "outputId": "b23bb47b-6341-4809-a63c-172dccb6e693"
      },
      "source": [
        "import re\n",
        "s='I completed 5 courses from 5 different websites'\n",
        "re.sub(r'5', 'five', s)"
      ],
      "execution_count": null,
      "outputs": [
        {
          "output_type": "execute_result",
          "data": {
            "application/vnd.google.colaboratory.intrinsic+json": {
              "type": "string"
            },
            "text/plain": [
              "'I completed five courses from five different websites'"
            ]
          },
          "metadata": {},
          "execution_count": 4
        }
      ]
    },
    {
      "cell_type": "markdown",
      "metadata": {
        "id": "7pgLF9r_1ayD"
      },
      "source": [
        "**2.For the given list, filter all elements that do not contain ‘e’.**"
      ]
    },
    {
      "cell_type": "code",
      "metadata": {
        "colab": {
          "base_uri": "https://localhost:8080/"
        },
        "id": "-LiOmUxv1mf2",
        "outputId": "81893e94-5188-4af9-f02c-2e10b2df41eb"
      },
      "source": [
        "list = ['hii', 'sony', 'deepu', 'jerry']\n",
        "[x for x in list if not re.search(r'e', x)]"
      ],
      "execution_count": null,
      "outputs": [
        {
          "output_type": "execute_result",
          "data": {
            "text/plain": [
              "['hii', 'sony']"
            ]
          },
          "metadata": {},
          "execution_count": 3
        }
      ]
    },
    {
      "cell_type": "markdown",
      "metadata": {
        "id": "44uZ7k7C3Pbg"
      },
      "source": [
        "**3.For the given input string, display all lines not containing ‘start’ irrespective of case.**"
      ]
    },
    {
      "cell_type": "code",
      "metadata": {
        "colab": {
          "base_uri": "https://localhost:8080/"
        },
        "id": "CnN9V_2w3cdt",
        "outputId": "fc1448bc-6275-427a-cfd2-111b4febae3f"
      },
      "source": [
        "k = '''start learning\n",
        "my friends always learn\n",
        "new things and they are\n",
        "very hard working\n",
        "so you should start\n",
        "working on new things\n",
        "to succeed'''\n",
        "w = re.compile(r'start', flags=re.I)\n",
        "for i in k.split('\\n'):\n",
        "     if not w.search(i):\n",
        "         print(i) "
      ],
      "execution_count": null,
      "outputs": [
        {
          "output_type": "stream",
          "name": "stdout",
          "text": [
            "my friends always learn\n",
            "new things and they are\n",
            "very hard working\n",
            "working on new things\n",
            "to succeed\n"
          ]
        }
      ]
    },
    {
      "cell_type": "markdown",
      "metadata": {
        "id": "WlgSjuvO9L2u"
      },
      "source": [
        "**4.For the given input list, filter all elements that contains 42 surrounded by word characters.**"
      ]
    },
    {
      "cell_type": "code",
      "metadata": {
        "colab": {
          "base_uri": "https://localhost:8080/"
        },
        "id": "Hqu2RNtp9Tsv",
        "outputId": "35c2fc9e-fe3c-4514-8d5c-12de60aa99c0"
      },
      "source": [
        "list = ['sony42priya', 'deepu1423', 'jerry42', 'janu42a', 'tata4b']\n",
        "[x for x in list if re.search(r'\\B42\\B', x)]\n"
      ],
      "execution_count": null,
      "outputs": [
        {
          "output_type": "execute_result",
          "data": {
            "text/plain": [
              "['sony42priya', 'deepu1423', 'janu42a']"
            ]
          },
          "metadata": {},
          "execution_count": 6
        }
      ]
    },
    {
      "cell_type": "markdown",
      "metadata": {
        "id": "C4nlFJby_baz"
      },
      "source": [
        "**5.Validate the CVV number(It should have 3 or 4 digits, It should have a digit between 0-9, It should not have any alphabets and special characters)**"
      ]
    },
    {
      "cell_type": "code",
      "metadata": {
        "colab": {
          "base_uri": "https://localhost:8080/"
        },
        "id": "S6jCmNW2_lOW",
        "outputId": "addc87b1-1c65-468f-cf2a-dfd71d24d8ce"
      },
      "source": [
        "def isValidCVVNumber(str):\n",
        "    regex = \"^[0-9]{3,4}$\"\n",
        "    p = re.compile(regex)\n",
        "    if(str == None):\n",
        "        return False\n",
        "    if(re.search(p, str)):\n",
        "        return True\n",
        "    else:\n",
        "        return False\n",
        "s1 = \"764\"\n",
        "print(isValidCVVNumber(s1))\n",
        "s2 = \"8651\"\n",
        "print(isValidCVVNumber(s2))\n",
        "s3 = \"64714\"\n",
        "print(isValidCVVNumber(s3))\n",
        "s4 = \"9a#1\"\n",
        "print(isValidCVVNumber(s4))"
      ],
      "execution_count": null,
      "outputs": [
        {
          "output_type": "stream",
          "name": "stdout",
          "text": [
            "True\n",
            "True\n",
            "False\n",
            "False\n"
          ]
        }
      ]
    },
    {
      "cell_type": "markdown",
      "metadata": {
        "id": "m86tcywXCs2s"
      },
      "source": [
        "**6.For the given input string, change whole word mall to 1234 only if it is at the start of a line**"
      ]
    },
    {
      "cell_type": "code",
      "metadata": {
        "colab": {
          "base_uri": "https://localhost:8080/"
        },
        "id": "igv9gN3_DB3l",
        "outputId": "75469013-afb1-46e2-8df5-7b22bbd56f87"
      },
      "source": [
        "p = '''\n",
        "sony deepu jerry\n",
        "went to\n",
        "mall for shopping\n",
        "and then\n",
        "went to home \n",
        "from mall'''\n",
        "\n",
        "print(re.sub(r'^mall\\b', '1234', p, flags=re.M))"
      ],
      "execution_count": null,
      "outputs": [
        {
          "output_type": "stream",
          "name": "stdout",
          "text": [
            "\n",
            "sony deepu jerry\n",
            "went to\n",
            "1234 for shopping\n",
            "and then\n",
            "went to home \n",
            "from mall\n"
          ]
        }
      ]
    },
    {
      "cell_type": "markdown",
      "metadata": {
        "id": "hOvN_0n3D4MT"
      },
      "source": [
        "**7.Check whether the given email address is valid or not.**"
      ]
    },
    {
      "cell_type": "code",
      "metadata": {
        "colab": {
          "base_uri": "https://localhost:8080/"
        },
        "id": "VtyJprr_E1aj",
        "outputId": "50613175-e890-4d97-b45e-bd4be2aea744"
      },
      "source": [
        "regex = r'\\b[A-Za-z0-9._%+-]+@[A-Za-z0-9.-]+\\.[A-Z|a-z]{2,}\\b'\n",
        " \n",
        "def check(email):\n",
        "    if(re.fullmatch(regex, email)):\n",
        "        print(\"Valid Email\")\n",
        "    else:\n",
        "        print(\"Invalid Email\")\n",
        "if __name__ == '__main__':\n",
        "    email = \"sony326@gmail.com\"\n",
        "    check(email)\n",
        "    email = \"deepu.ojkhcoe@our-earth.org\"\n",
        "    check(email) \n",
        "    email = \"jerusha326.com\"\n",
        "    check(email)"
      ],
      "execution_count": null,
      "outputs": [
        {
          "output_type": "stream",
          "name": "stdout",
          "text": [
            "Valid Email\n",
            "Valid Email\n",
            "Invalid Email\n"
          ]
        }
      ]
    },
    {
      "cell_type": "markdown",
      "metadata": {
        "id": "goFV8-p7G17G"
      },
      "source": [
        "**8.Check whether the Aadhar number is valid or not ( It should have 12 digits, It should not start with 0 and 1, It should not contain any alphabet and special characters, It should have white space after every 4 digits)**"
      ]
    },
    {
      "cell_type": "code",
      "metadata": {
        "colab": {
          "base_uri": "https://localhost:8080/"
        },
        "id": "l4kAK-_vEIw4",
        "outputId": "26503b0c-c793-4b5e-843a-88ae35834297"
      },
      "source": [
        "def isValidAadharNumber(str):\n",
        "  regex = (\"^[2-9]{1}[0-9]{3}\\\\\" + \"s[0-9]{4}\\\\s[0-9]{4}$\")\n",
        "  a= re.compile(regex)\n",
        "  if (str == None):\n",
        "        return False\n",
        "  if(re.search(a, str)):\n",
        "        return True\n",
        "  else:\n",
        "        return False\n",
        "s1 = \"3675 9834 6015 6\"\n",
        "print(isValidAadharNumber(s1))\n",
        "s2 = \"4675 9834 6013\"\n",
        "print(isValidAadharNumber(s2))\n",
        "s3 = \"0175 9834 6012 56\"\n",
        "print(isValidAadharNumber(s3))\n",
        "s4 = \"3675 98AF 60#2\"\n",
        "print(isValidAadharNumber(s4))\n",
        "s5 = \"417598346012\"\n",
        "print(isValidAadharNumber(s5))"
      ],
      "execution_count": null,
      "outputs": [
        {
          "output_type": "stream",
          "name": "stdout",
          "text": [
            "False\n",
            "True\n",
            "False\n",
            "False\n",
            "False\n"
          ]
        }
      ]
    }
  ]
}